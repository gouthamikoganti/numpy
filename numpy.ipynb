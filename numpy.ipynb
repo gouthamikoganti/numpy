{
  "nbformat": 4,
  "nbformat_minor": 0,
  "metadata": {
    "colab": {
      "name": "numpy.ipynb",
      "provenance": []
    },
    "kernelspec": {
      "name": "python3",
      "display_name": "Python 3"
    }
  },
  "cells": [
    {
      "cell_type": "markdown",
      "metadata": {
        "id": "CqP2QyyLOvTT"
      },
      "source": [
        "Write a function so that the columns of the output matrix are powers of the input\n",
        "vector."
      ]
    },
    {
      "cell_type": "code",
      "metadata": {
        "id": "ITx8NvwkIOHZ"
      },
      "source": [
        "import numpy as np\n",
        "\n",
        "def function(in_matrix, increasing = False):\n",
        "    N = len(in_matrix)\n",
        "    if increasing:\n",
        "        res = [[pow(i, j) for j in range(0, N)] for i in in_matrix]\n",
        "        print(np.asanyarray(res))\n",
        "    else:\n",
        "        res = [[pow(i, j) for j in range(N-1, -1, -1) ] for i in in_matrix]\n",
        "        print(np.asanyarray(res))"
      ],
      "execution_count": null,
      "outputs": []
    },
    {
      "cell_type": "code",
      "metadata": {
        "id": "9dWNhS0JKzRp",
        "colab": {
          "base_uri": "https://localhost:8080/",
          "height": 156
        },
        "outputId": "d6c79f23-b7bf-4a60-81ea-bd7667f34b34"
      },
      "source": [
        "in_matrix = [1,2,3,4]        \n",
        "function(in_matrix,increasing = False)\n",
        "function(in_matrix,increasing=True)"
      ],
      "execution_count": null,
      "outputs": [
        {
          "output_type": "stream",
          "text": [
            "[[ 1  1  1  1]\n",
            " [ 8  4  2  1]\n",
            " [27  9  3  1]\n",
            " [64 16  4  1]]\n",
            "[[ 1  1  1  1]\n",
            " [ 1  2  4  8]\n",
            " [ 1  3  9 27]\n",
            " [ 1  4 16 64]]\n"
          ],
          "name": "stdout"
        }
      ]
    },
    {
      "cell_type": "markdown",
      "metadata": {
        "id": "oU74grH6O49Y"
      },
      "source": [
        "Problem Statement 2:\n",
        "Given a sequence of n values x1, x2, ..., xn and a window size k>0, the k-th moving average of\n",
        "the given sequence is defined as follows:\n",
        "The moving average sequence has n-k+1 elements as shown below.\n",
        "The moving averages with k=4 of a ten-value sequence (n=10) is shown below"
      ]
    },
    {
      "cell_type": "code",
      "metadata": {
        "id": "oHJctfY2NBvq",
        "colab": {
          "base_uri": "https://localhost:8080/",
          "height": 55
        },
        "outputId": "e9f40390-972d-4a01-90e8-dc73d781a740"
      },
      "source": [
        "in_array=np.array([3, 5, 7, 2, 8, 10, 11, 65, 72, 81, 99, 100, 150])\n",
        "m=3\n",
        "n=len(in_array)\n",
        "output=[]\n",
        "def movingaverage():\n",
        "    for i in range(0,n):\n",
        "        if i<n-m+1:\n",
        "            sum=0\n",
        "            for j in range(i,i+m):\n",
        "                sum=sum+input_array[j]\n",
        "            output.append(sum/m)    \n",
        "    print(output)    \n",
        "    \n",
        "movingaverage()"
      ],
      "execution_count": null,
      "outputs": [
        {
          "output_type": "stream",
          "text": [
            "[5.0, 4.666666666666667, 5.666666666666667, 6.666666666666667, 9.666666666666666, 28.666666666666668, 49.333333333333336, 72.66666666666667, 84.0, 93.33333333333333, 116.33333333333333]\n"
          ],
          "name": "stdout"
        }
      ]
    }
  ]
}